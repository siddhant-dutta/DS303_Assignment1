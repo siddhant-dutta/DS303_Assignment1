{
  "cells": [
    {
      "cell_type": "markdown",
      "metadata": {
        "id": "view-in-github",
        "colab_type": "text"
      },
      "source": [
        "<a href=\"https://colab.research.google.com/github/siddhant-dutta/DS303_Assignment1/blob/master/DS303_Assignment1_200110106.ipynb\" target=\"_parent\"><img src=\"https://colab.research.google.com/assets/colab-badge.svg\" alt=\"Open In Colab\"/></a>"
      ]
    },
    {
      "cell_type": "markdown",
      "source": [
        "<h1> Honour Code </h1>\n",
        "\n",
        "This submission is my own work, except where I have acknowledged the use of the works of other people."
      ],
      "metadata": {
        "id": "jQZiOv2cBrCp"
      }
    },
    {
      "cell_type": "code",
      "execution_count": 6,
      "metadata": {
        "id": "iU_o8qeLNRv-"
      },
      "outputs": [],
      "source": [
        "import numpy as np\n",
        "import matplotlib.pyplot as plt\n",
        "import pandas as pd"
      ]
    },
    {
      "cell_type": "code",
      "execution_count": 7,
      "metadata": {
        "colab": {
          "base_uri": "https://localhost:8080/",
          "height": 423
        },
        "id": "NYBeE58uNRwQ",
        "outputId": "c6769d0e-e31b-4b4d-8409-a410a5c1428e"
      },
      "outputs": [
        {
          "output_type": "execute_result",
          "data": {
            "text/html": [
              "\n",
              "  <div id=\"df-3a671b51-e51a-4950-9fd2-1cf7212258ae\">\n",
              "    <div class=\"colab-df-container\">\n",
              "      <div>\n",
              "<style scoped>\n",
              "    .dataframe tbody tr th:only-of-type {\n",
              "        vertical-align: middle;\n",
              "    }\n",
              "\n",
              "    .dataframe tbody tr th {\n",
              "        vertical-align: top;\n",
              "    }\n",
              "\n",
              "    .dataframe thead th {\n",
              "        text-align: right;\n",
              "    }\n",
              "</style>\n",
              "<table border=\"1\" class=\"dataframe\">\n",
              "  <thead>\n",
              "    <tr style=\"text-align: right;\">\n",
              "      <th></th>\n",
              "      <th>food</th>\n",
              "      <th>decor</th>\n",
              "      <th>service</th>\n",
              "      <th>price</th>\n",
              "    </tr>\n",
              "  </thead>\n",
              "  <tbody>\n",
              "    <tr>\n",
              "      <th>0</th>\n",
              "      <td>18.0</td>\n",
              "      <td>22.0</td>\n",
              "      <td>17.0</td>\n",
              "      <td>41.0</td>\n",
              "    </tr>\n",
              "    <tr>\n",
              "      <th>1</th>\n",
              "      <td>24.0</td>\n",
              "      <td>22.0</td>\n",
              "      <td>22.0</td>\n",
              "      <td>54.0</td>\n",
              "    </tr>\n",
              "    <tr>\n",
              "      <th>2</th>\n",
              "      <td>18.0</td>\n",
              "      <td>17.0</td>\n",
              "      <td>14.0</td>\n",
              "      <td>32.0</td>\n",
              "    </tr>\n",
              "    <tr>\n",
              "      <th>3</th>\n",
              "      <td>18.0</td>\n",
              "      <td>9.0</td>\n",
              "      <td>13.0</td>\n",
              "      <td>20.0</td>\n",
              "    </tr>\n",
              "    <tr>\n",
              "      <th>4</th>\n",
              "      <td>21.0</td>\n",
              "      <td>12.0</td>\n",
              "      <td>16.0</td>\n",
              "      <td>25.0</td>\n",
              "    </tr>\n",
              "    <tr>\n",
              "      <th>...</th>\n",
              "      <td>...</td>\n",
              "      <td>...</td>\n",
              "      <td>...</td>\n",
              "      <td>...</td>\n",
              "    </tr>\n",
              "    <tr>\n",
              "      <th>109</th>\n",
              "      <td>20.0</td>\n",
              "      <td>21.0</td>\n",
              "      <td>18.0</td>\n",
              "      <td>40.0</td>\n",
              "    </tr>\n",
              "    <tr>\n",
              "      <th>110</th>\n",
              "      <td>18.0</td>\n",
              "      <td>14.0</td>\n",
              "      <td>16.0</td>\n",
              "      <td>30.0</td>\n",
              "    </tr>\n",
              "    <tr>\n",
              "      <th>111</th>\n",
              "      <td>17.0</td>\n",
              "      <td>17.0</td>\n",
              "      <td>18.0</td>\n",
              "      <td>34.0</td>\n",
              "    </tr>\n",
              "    <tr>\n",
              "      <th>112</th>\n",
              "      <td>20.0</td>\n",
              "      <td>22.0</td>\n",
              "      <td>21.0</td>\n",
              "      <td>51.0</td>\n",
              "    </tr>\n",
              "    <tr>\n",
              "      <th>113</th>\n",
              "      <td>19.0</td>\n",
              "      <td>14.0</td>\n",
              "      <td>15.0</td>\n",
              "      <td>23.0</td>\n",
              "    </tr>\n",
              "  </tbody>\n",
              "</table>\n",
              "<p>114 rows × 4 columns</p>\n",
              "</div>\n",
              "      <button class=\"colab-df-convert\" onclick=\"convertToInteractive('df-3a671b51-e51a-4950-9fd2-1cf7212258ae')\"\n",
              "              title=\"Convert this dataframe to an interactive table.\"\n",
              "              style=\"display:none;\">\n",
              "        \n",
              "  <svg xmlns=\"http://www.w3.org/2000/svg\" height=\"24px\"viewBox=\"0 0 24 24\"\n",
              "       width=\"24px\">\n",
              "    <path d=\"M0 0h24v24H0V0z\" fill=\"none\"/>\n",
              "    <path d=\"M18.56 5.44l.94 2.06.94-2.06 2.06-.94-2.06-.94-.94-2.06-.94 2.06-2.06.94zm-11 1L8.5 8.5l.94-2.06 2.06-.94-2.06-.94L8.5 2.5l-.94 2.06-2.06.94zm10 10l.94 2.06.94-2.06 2.06-.94-2.06-.94-.94-2.06-.94 2.06-2.06.94z\"/><path d=\"M17.41 7.96l-1.37-1.37c-.4-.4-.92-.59-1.43-.59-.52 0-1.04.2-1.43.59L10.3 9.45l-7.72 7.72c-.78.78-.78 2.05 0 2.83L4 21.41c.39.39.9.59 1.41.59.51 0 1.02-.2 1.41-.59l7.78-7.78 2.81-2.81c.8-.78.8-2.07 0-2.86zM5.41 20L4 18.59l7.72-7.72 1.47 1.35L5.41 20z\"/>\n",
              "  </svg>\n",
              "      </button>\n",
              "      \n",
              "  <style>\n",
              "    .colab-df-container {\n",
              "      display:flex;\n",
              "      flex-wrap:wrap;\n",
              "      gap: 12px;\n",
              "    }\n",
              "\n",
              "    .colab-df-convert {\n",
              "      background-color: #E8F0FE;\n",
              "      border: none;\n",
              "      border-radius: 50%;\n",
              "      cursor: pointer;\n",
              "      display: none;\n",
              "      fill: #1967D2;\n",
              "      height: 32px;\n",
              "      padding: 0 0 0 0;\n",
              "      width: 32px;\n",
              "    }\n",
              "\n",
              "    .colab-df-convert:hover {\n",
              "      background-color: #E2EBFA;\n",
              "      box-shadow: 0px 1px 2px rgba(60, 64, 67, 0.3), 0px 1px 3px 1px rgba(60, 64, 67, 0.15);\n",
              "      fill: #174EA6;\n",
              "    }\n",
              "\n",
              "    [theme=dark] .colab-df-convert {\n",
              "      background-color: #3B4455;\n",
              "      fill: #D2E3FC;\n",
              "    }\n",
              "\n",
              "    [theme=dark] .colab-df-convert:hover {\n",
              "      background-color: #434B5C;\n",
              "      box-shadow: 0px 1px 3px 1px rgba(0, 0, 0, 0.15);\n",
              "      filter: drop-shadow(0px 1px 2px rgba(0, 0, 0, 0.3));\n",
              "      fill: #FFFFFF;\n",
              "    }\n",
              "  </style>\n",
              "\n",
              "      <script>\n",
              "        const buttonEl =\n",
              "          document.querySelector('#df-3a671b51-e51a-4950-9fd2-1cf7212258ae button.colab-df-convert');\n",
              "        buttonEl.style.display =\n",
              "          google.colab.kernel.accessAllowed ? 'block' : 'none';\n",
              "\n",
              "        async function convertToInteractive(key) {\n",
              "          const element = document.querySelector('#df-3a671b51-e51a-4950-9fd2-1cf7212258ae');\n",
              "          const dataTable =\n",
              "            await google.colab.kernel.invokeFunction('convertToInteractive',\n",
              "                                                     [key], {});\n",
              "          if (!dataTable) return;\n",
              "\n",
              "          const docLinkHtml = 'Like what you see? Visit the ' +\n",
              "            '<a target=\"_blank\" href=https://colab.research.google.com/notebooks/data_table.ipynb>data table notebook</a>'\n",
              "            + ' to learn more about interactive tables.';\n",
              "          element.innerHTML = '';\n",
              "          dataTable['output_type'] = 'display_data';\n",
              "          await google.colab.output.renderOutput(dataTable, element);\n",
              "          const docLink = document.createElement('div');\n",
              "          docLink.innerHTML = docLinkHtml;\n",
              "          element.appendChild(docLink);\n",
              "        }\n",
              "      </script>\n",
              "    </div>\n",
              "  </div>\n",
              "  "
            ],
            "text/plain": [
              "     food  decor  service  price\n",
              "0    18.0   22.0     17.0   41.0\n",
              "1    24.0   22.0     22.0   54.0\n",
              "2    18.0   17.0     14.0   32.0\n",
              "3    18.0    9.0     13.0   20.0\n",
              "4    21.0   12.0     16.0   25.0\n",
              "..    ...    ...      ...    ...\n",
              "109  20.0   21.0     18.0   40.0\n",
              "110  18.0   14.0     16.0   30.0\n",
              "111  17.0   17.0     18.0   34.0\n",
              "112  20.0   22.0     21.0   51.0\n",
              "113  19.0   14.0     15.0   23.0\n",
              "\n",
              "[114 rows x 4 columns]"
            ]
          },
          "metadata": {},
          "execution_count": 7
        }
      ],
      "source": [
        "df = pd.read_csv('https://raw.githubusercontent.com/siddhant-dutta/DS303_Assignment1/master/restaurent.csv')\n",
        "\n",
        "#Mean of the price \n",
        "# y = ax1 + bx2 + cx3 + e\n",
        "price = df['price']\n",
        "mean_noise = price.mean()\n",
        "std_noise = price.std()\n",
        "df\n",
        "#print(f'The mean is {mean_error} and the standard deviation is {std_error}')"
      ]
    },
    {
      "cell_type": "code",
      "execution_count": 8,
      "metadata": {
        "id": "7PRL_90bNRwU"
      },
      "outputs": [],
      "source": [
        "# Randomly selecting 50 samples from the dataset\n",
        "df = df.sample(n=50,random_state = 1)"
      ]
    },
    {
      "cell_type": "code",
      "source": [
        "# Plotting food vs price\n",
        "plt.scatter(df['food'],df['price'])\n",
        "plt.xlabel('Food')\n",
        "plt.ylabel('Price')\n",
        "plt.show()"
      ],
      "metadata": {
        "colab": {
          "base_uri": "https://localhost:8080/",
          "height": 279
        },
        "id": "rdDJNzE0N94x",
        "outputId": "7d38f5f5-94ea-465b-eb13-5ef5e6c42a08"
      },
      "execution_count": 9,
      "outputs": [
        {
          "output_type": "display_data",
          "data": {
            "image/png": "[encoded data removed]",
            "text/plain": [
              "<Figure size 432x288 with 1 Axes>"
            ]
          },
          "metadata": {
            "needs_background": "light"
          }
        }
      ]
    },
    {
      "cell_type": "code",
      "source": [
        "# Plotting decor vs price\n",
        "plt.scatter(df['decor'],df['price'])\n",
        "plt.xlabel('Decor')\n",
        "plt.ylabel('Price')\n",
        "plt.show()"
      ],
      "metadata": {
        "colab": {
          "base_uri": "https://localhost:8080/",
          "height": 279
        },
        "id": "3hN6lTTLOASl",
        "outputId": "ab844e9c-76a4-49b4-eaf9-d142330e5a03"
      },
      "execution_count": 10,
      "outputs": [
        {
          "output_type": "display_data",
          "data": {
            "image/png": "[encoded data removed]",
            "text/plain": [
              "<Figure size 432x288 with 1 Axes>"
            ]
          },
          "metadata": {
            "needs_background": "light"
          }
        }
      ]
    },
    {
      "cell_type": "code",
      "source": [
        "# Plotting service vs price\n",
        "plt.scatter(df['service'],df['price'])\n",
        "plt.xlabel('Service')\n",
        "plt.ylabel('Price')\n",
        "plt.show()"
      ],
      "metadata": {
        "colab": {
          "base_uri": "https://localhost:8080/",
          "height": 279
        },
        "id": "q6wLHAOdOCW7",
        "outputId": "53f36da3-02bd-49fc-ae8d-770aa8ee5330"
      },
      "execution_count": 11,
      "outputs": [
        {
          "output_type": "display_data",
          "data": {
            "image/png": "[encoded data removed]",
            "text/plain": [
              "<Figure size 432x288 with 1 Axes>"
            ]
          },
          "metadata": {
            "needs_background": "light"
          }
        }
      ]
    },
    {
      "cell_type": "code",
      "source": [
        "# Splitting the dataset into Dependent and Independent Variables\n",
        "from sklearn.model_selection import train_test_split\n",
        "x = df.iloc[:,:3]\n",
        "y = df.iloc[:,3]"
      ],
      "metadata": {
        "id": "yhwgP7i_Q_W3"
      },
      "execution_count": 12,
      "outputs": []
    },
    {
      "cell_type": "code",
      "source": [
        "from sklearn.linear_model import LinearRegression\n",
        "reg = LinearRegression()\n",
        "reg.fit(x.values,y.values)"
      ],
      "metadata": {
        "colab": {
          "base_uri": "https://localhost:8080/"
        },
        "id": "GT5rKxEhODiG",
        "outputId": "fb049ba9-9490-4d8f-cf9f-fb0e79d83088"
      },
      "execution_count": 13,
      "outputs": [
        {
          "output_type": "execute_result",
          "data": {
            "text/plain": [
              "LinearRegression()"
            ]
          },
          "metadata": {},
          "execution_count": 13
        }
      ]
    },
    {
      "cell_type": "code",
      "source": [
        "first_prediction = reg.predict([[125,148,265]])\n",
        "lower_limit = first_prediction[0] - 1.96*std_noise\n",
        "upper_limit = first_prediction[0] + 1.96*std_noise\n",
        "print(f'The 95% predictive interval is [{lower_limit},{upper_limit}]')"
      ],
      "metadata": {
        "colab": {
          "base_uri": "https://localhost:8080/"
        },
        "id": "cXdeCD64RQ6c",
        "outputId": "e01bd9e3-907e-4272-b7d8-2d943d66bb2e"
      },
      "execution_count": 16,
      "outputs": [
        {
          "output_type": "execute_result",
          "data": {
            "text/plain": [
              "array([762.43720441])"
            ]
          },
          "metadata": {},
          "execution_count": 16
        }
      ]
    },
    {
      "cell_type": "code",
      "source": [
        "reg.coef_\n",
        "# Food , decor and services"
      ],
      "metadata": {
        "id": "Z9HaIC--SazK",
        "colab": {
          "base_uri": "https://localhost:8080/"
        },
        "outputId": "06a0c97f-1944-4db9-c64c-278a138523e7"
      },
      "execution_count": 17,
      "outputs": [
        {
          "output_type": "execute_result",
          "data": {
            "text/plain": [
              "array([1.39955198, 0.71207729, 1.97613517])"
            ]
          },
          "metadata": {},
          "execution_count": 17
        }
      ]
    },
    {
      "cell_type": "markdown",
      "source": [
        "<h1> Coefficient of Determination"
      ],
      "metadata": {
        "id": "GGA5M3-P_vuu"
      }
    },
    {
      "cell_type": "code",
      "source": [
        "from sklearn.metrics import r2_score\n",
        "y_pred = reg.predict(x.values)\n",
        "r2_score(y.values, y_pred)"
      ],
      "metadata": {
        "colab": {
          "base_uri": "https://localhost:8080/"
        },
        "id": "U__hRB4r7UVv",
        "outputId": "4d7f7a09-465a-4410-b2ab-3f5d51781709"
      },
      "execution_count": 20,
      "outputs": [
        {
          "output_type": "execute_result",
          "data": {
            "text/plain": [
              "0.777858913799886"
            ]
          },
          "metadata": {},
          "execution_count": 20
        }
      ]
    },
    {
      "cell_type": "markdown",
      "source": [
        "* It can be referred that **77.79%** of the changeability of the dependent output attribute can be explained by the model while the remaining 22.21 % of the variability is still unaccounted for.\n",
        "* $R^2$ indicates the proportion of data points which lie within the line created by the regression equation. A higher value of R2 is desirable as it indicates better results."
      ],
      "metadata": {
        "id": "fvsbTYA88XtQ"
      }
    },
    {
      "cell_type": "markdown",
      "source": [
        "<h1><b> c) What is the interpretation of the coefficient estimate for the explanatory variable food\n",
        "in the multiple regression from part (b) ? </h1>\n",
        "\n",
        "* The sign of a regression coefficient tells you whether there is a positive or negative correlation between each independent variable and the dependent variable. A positive coefficient indicates that as the value of the independent variable increases, the mean of the dependent variable also tends to increase. A negative coefficient suggests that as the independent variable increases, the dependent variable tends to decrease.\n",
        "\n",
        "* The coefficient value signifies how much the mean of the dependent variable changes given a one-unit shift in the independent variable while holding other variables in the model constant. This property of holding the other variables constant is crucial because it allows you to assess the effect of each variable in isolation from the others."
      ],
      "metadata": {
        "id": "u_1L0eIgBWlC"
      }
    },
    {
      "cell_type": "markdown",
      "source": [
        "<b> Interpretation of slope:- </b> For each unit increase in food rating the price increases by 1.39955"
      ],
      "metadata": {
        "id": "IPAHUrwrIq60"
      }
    },
    {
      "cell_type": "markdown",
      "source": [
        "<h2> <b>d) Why are\n",
        "the estimates of coefficients of food rating different in the simple regression b/w price and food rating and multiple regression?</b>"
      ],
      "metadata": {
        "id": "4BSS31Kg93ga"
      }
    },
    {
      "cell_type": "code",
      "source": [
        "#Plotting food vs service\n",
        "plt.scatter(df['food'],df['service'])\n",
        "plt.xlabel('Food')\n",
        "plt.ylabel('Service')\n",
        "plt.show()"
      ],
      "metadata": {
        "colab": {
          "base_uri": "https://localhost:8080/",
          "height": 279
        },
        "id": "HAKJepGiExp4",
        "outputId": "00f66497-3712-44d1-f444-6b4f38ab6483"
      },
      "execution_count": 18,
      "outputs": [
        {
          "output_type": "display_data",
          "data": {
            "image/png": "[encoded data removed]",
            "text/plain": [
              "<Figure size 432x288 with 1 Axes>"
            ]
          },
          "metadata": {
            "needs_background": "light"
          }
        }
      ]
    },
    {
      "cell_type": "markdown",
      "source": [
        "\n",
        "\n",
        "<b>As plotted above, the food and price are related in a positive way. A\n",
        "better restaurant tend to have good food, service and decor... and also a higher price. Thus, the above obervation does make sense. The service rating can be expressed as:- \n",
        "\n",
        "* $ service = m*food+c$  &ensp; --> &ensp;  (A)\n",
        "\n",
        "* Also,in our multiple linear regression model:-\n",
        "\n",
        "  $ price = w1*food + w2*service + w3*decor $\n",
        "\n",
        "* On substituting the (A) in the above expression\n",
        "\n",
        "  $ price = w1*food + w2*{(m*food+c)} + w3*decor $\n",
        "\n",
        "  &emsp;&emsp;&emsp;$  = food(w1 + m*w2) + c*w2 + w3*decor $\n",
        "\n",
        "\n",
        "* Here w1, w2, c and m all are positive. Hence we can predict that the estimate of the coefficent of food rating in simple linear regression of price on food should be greater than the estimate of the coefficent of food rating in regression of price on food,service and decor.\n",
        "\n",
        "* Also,\n",
        "When food goes up service and decor tend to go up as well\n",
        "but since they are not in the regression, the coefficient for food has to reflect the other\n",
        "factors. Once decor and service are in the regression, the coefficient for food just has\n",
        "to reflect the impact associated with food but not with the other variables\n",
        "\n",
        "\n",
        "\n",
        "       \n",
        "    \n",
        "\n",
        "\n",
        "   "
      ],
      "metadata": {
        "id": "TXMEGXp9Mlyc"
      }
    },
    {
      "cell_type": "code",
      "source": [
        "#d)\n",
        "simple_reg = LinearRegression()\n",
        "food = df.iloc[:,0]\n",
        "price = df.iloc[:,-1]\n",
        "food = food.values.reshape(-1,1)\n",
        "food.shape\n",
        "\n",
        "simple_reg.fit(food,price.values)\n",
        "simple_reg.coef_"
      ],
      "metadata": {
        "id": "_rv2NiAmeFri",
        "colab": {
          "base_uri": "https://localhost:8080/"
        },
        "outputId": "cccadaed-0955-4bcd-82b8-b040a00878e6"
      },
      "execution_count": 19,
      "outputs": [
        {
          "output_type": "execute_result",
          "data": {
            "text/plain": [
              "array([3.67489193])"
            ]
          },
          "metadata": {},
          "execution_count": 19
        }
      ]
    },
    {
      "cell_type": "markdown",
      "source": [
        "Thus, our assumption was right !!!"
      ],
      "metadata": {
        "id": "S6u1OaYEAK5N"
      }
    },
    {
      "cell_type": "markdown",
      "source": [
        "<h2> <b> e) Suppose I asked you to use the multiple regression results to predict the price of a meal at a restaurant with food = 20, service = 3, and decor =17.\n",
        "How would you feel about it? </b>\n",
        "\n",
        "* We just dont see in our data restaurants with that low of a service rating\n",
        "given food equal to 20 and decor equal to 17. This would be a extreme extrapolation from what we have seen so far and the model might not be appropriate"
      ],
      "metadata": {
        "id": "JvduzLTXRVDT"
      }
    },
    {
      "cell_type": "code",
      "source": [
        ""
      ],
      "metadata": {
        "id": "qo1pJnI-JsIy"
      },
      "execution_count": null,
      "outputs": []
    }
  ],
  "metadata": {
    "interpreter": {
      "hash": "a8f61be024eba58adef938c9aa1e29e02cb3dece83a5348b1a2dafd16a070453"
    },
    "kernelspec": {
      "display_name": "Python 3.8.5 64-bit ('base': conda)",
      "language": "python",
      "name": "python3"
    },
    "language_info": {
      "codemirror_mode": {
        "name": "ipython",
        "version": 3
      },
      "file_extension": ".py",
      "mimetype": "text/x-python",
      "name": "python",
      "nbconvert_exporter": "python",
      "pygments_lexer": "ipython3",
      "version": "3.8.5"
    },
    "orig_nbformat": 4,
    "colab": {
      "name": "DS303_Assignment1_200110106.ipynb",
      "provenance": [],
      "collapsed_sections": [],
      "include_colab_link": true
    }
  },
  "nbformat": 4,
  "nbformat_minor": 0
}